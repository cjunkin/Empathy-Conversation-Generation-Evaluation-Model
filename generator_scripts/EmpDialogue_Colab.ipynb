{
  "nbformat": 4,
  "nbformat_minor": 0,
  "metadata": {
    "colab": {
      "provenance": [],
      "gpuType": "T4"
    },
    "kernelspec": {
      "name": "python3",
      "display_name": "Python 3"
    },
    "language_info": {
      "name": "python"
    },
    "accelerator": "GPU"
  },
  "cells": [
    {
      "cell_type": "markdown",
      "source": [
        "# **Empathetic Generative Model**"
      ],
      "metadata": {
        "id": "TeNfwAqcv1Cm"
      }
    },
    {
      "cell_type": "markdown",
      "source": [
        "**File Structure (Colab)**\n",
        "\n",
        "Full Path:\n",
        "/content/gdrive/MyDrive/CS247-Empathy-Mental-Health/EmpDialogue_RecEC\n",
        "\n",
        "Symlink: /content/CS247-Empathy-Mental-Health/EmpDialogue_RecEC\n",
        "\n",
        "Output Folder (for all models):\n",
        "/content/CS247-Empathy-Mental-Health/EmpDialogue_RecEC/outputs\n",
        "\n",
        "Roberta: /content/CS247-Empathy-Mental-Health/resources/roberta-large.tsv\n",
        "\n",
        "Glove: /content/CS247-Empathy-Mental-Health/resources/glove.6B.300d.txt"
      ],
      "metadata": {
        "id": "NsV6oAj2mYkL"
      }
    },
    {
      "cell_type": "markdown",
      "source": [
        "## **Setup**"
      ],
      "metadata": {
        "id": "LkvBvNMrEDd7"
      }
    },
    {
      "cell_type": "markdown",
      "source": [
        "If running on local device, ignore cell below:"
      ],
      "metadata": {
        "id": "2vkzgBI1Ao8S"
      }
    },
    {
      "cell_type": "code",
      "source": [
        "import os\n",
        "import shutil\n",
        "\n",
        "try:\n",
        "\n",
        "    from google.colab import drive\n",
        "    drive.mount('/content/gdrive')\n",
        "\n",
        "    DRIVE_PATH = '/content/gdrive/My\\ Drive/CS247-Empathy-Mental-Health'\n",
        "    DRIVE_PYTHON_PATH = DRIVE_PATH.replace('\\\\', '')\n",
        "    if not os.path.exists(DRIVE_PYTHON_PATH):\n",
        "      %mkdir $DRIVE_PATH\n",
        "\n",
        "    ## the space in `My Drive` causes some issues,\n",
        "    ## make a symlink to avoid this\n",
        "    # Solved -> symlink for convenience\n",
        "    SYM_PATH = '/content/CS247-Empathy-Mental-Health'\n",
        "    if not os.path.exists(SYM_PATH):\n",
        "      !ln -s $DRIVE_PATH $SYM_PATH\n",
        "\n",
        "    running_in_colab = True\n",
        "\n",
        "    # We already mounted in our google drive.\n",
        "    # Enter the foler where you put files in:\n",
        "    %cd '/content/CS247-Empathy-Mental-Health'\n",
        "\n",
        "    # What files are there:\n",
        "    !ls\n",
        "\n",
        "\n",
        "except ModuleNotFoundError:\n",
        "    running_in_colab = False\n",
        "    print(\n",
        "        \"I guess you are running locally. If you get this message in Colab, check the files.\"\n",
        "    )"
      ],
      "metadata": {
        "id": "67YZZumZqKfA"
      },
      "execution_count": null,
      "outputs": []
    },
    {
      "cell_type": "markdown",
      "source": [
        "Clone/update local repo"
      ],
      "metadata": {
        "id": "WXJp4gLgDarV"
      }
    },
    {
      "cell_type": "code",
      "execution_count": null,
      "metadata": {
        "id": "A8F2TV-aS0nx"
      },
      "outputs": [],
      "source": [
        "if os.path.isdir(SYM_PATH + \"/EmpDialogue_RecEC\"):\n",
        "    !git pull\n",
        "elif not os.path.exists('./EmpDialogue_RecEC'):\n",
        "    !git clone https://github.com/saunack/EmpDialogue_RecEC.git\n",
        "    %cd './EmpDialogue_RecEC'\n",
        "else:\n",
        "    %cd './EmpDialogue_RecEC'\n",
        "    !git pull\n",
        "!pwd"
      ]
    },
    {
      "cell_type": "markdown",
      "source": [
        "Ensure you're in \"CS247-Empathy-Mental-Health/EmpDialogue_RecEC\""
      ],
      "metadata": {
        "id": "3Gvs5w2_41n3"
      }
    },
    {
      "cell_type": "code",
      "source": [
        "!bash setup.sh"
      ],
      "metadata": {
        "id": "E84noaCfTIC3"
      },
      "execution_count": null,
      "outputs": []
    },
    {
      "cell_type": "markdown",
      "source": [
        "## **Train Emotion Recognition Model**\n",
        "\n",
        "Outputs the emotion recognition model checkpoint to (ensure it exists):\n",
        "\n",
        "EmpDialogue_RecEC/outputs/emotion/best_emotion.pt\n",
        "\n",
        "Emotion data from this model is fed into the generative model"
      ],
      "metadata": {
        "id": "LwwZHwyZhlR3"
      }
    },
    {
      "cell_type": "code",
      "source": [
        "# Run if emotion recognition model best checkpoint is unavailable\n",
        "# !bash bash/run_emotion.sh --glove /resources/glove.6B.300d.txt --gpu_id 0\n",
        "# !cp outputs/emotion/best_emotion.pt models/emotion"
      ],
      "metadata": {
        "id": "WOwynIFPS35s"
      },
      "execution_count": null,
      "outputs": []
    },
    {
      "cell_type": "markdown",
      "source": [
        "## **Train Generative Models**"
      ],
      "metadata": {
        "id": "_7blETv5hswj"
      }
    },
    {
      "cell_type": "markdown",
      "source": [
        "### **Soft Gate Model**"
      ],
      "metadata": {
        "id": "yOGYCNLsh0ch"
      }
    },
    {
      "cell_type": "markdown",
      "source": [
        "**Train**"
      ],
      "metadata": {
        "id": "bGk9Gby6ESc9"
      }
    },
    {
      "cell_type": "code",
      "source": [
        "!bash bash/run_generation.sh \\\n",
        "            --glove \"resources/glove.6B.300d.txt\" \\\n",
        "            --gpu_id 0 \\\n",
        "            --mode soft \\\n",
        "            --baseline \"resources/roberta-large.tsv\" \\\n",
        "            --roberta roberta-large \\\n",
        "            --do_train"
      ],
      "metadata": {
        "id": "lkqLo1J9WRII"
      },
      "execution_count": null,
      "outputs": []
    },
    {
      "cell_type": "markdown",
      "source": [
        "Checkpoint cell could be finicky. Feel free to change:"
      ],
      "metadata": {
        "id": "lPsvdbrwD2GA"
      }
    },
    {
      "cell_type": "code",
      "source": [
        "# Change checkpoint based on what checkpoint you want to use\n",
        "checkpoint = \"checkpoint_other_131.pt\"\n",
        "\n",
        "source_path = f\"{checkpoint}\"\n",
        "destination_path = \"outputs/soft_gen/checkpoint_best.pt\"\n",
        "\n",
        "# Copy the file from source to destination\n",
        "shutil.copyfile(source_path, destination_path)"
      ],
      "metadata": {
        "id": "3yaVIVytffUD"
      },
      "execution_count": null,
      "outputs": []
    },
    {
      "cell_type": "markdown",
      "source": [
        "**Test**"
      ],
      "metadata": {
        "id": "zCZCJ-LnEVHx"
      }
    },
    {
      "cell_type": "code",
      "source": [
        "!bash bash/run_generation.sh \\\n",
        "            --glove \"resources/glove.6B.300d.txt\" \\\n",
        "            --gpu_id 0 \\\n",
        "            --mode soft \\\n",
        "            --roberta roberta-large \\\n",
        "            --baseline \"resources/roberta-large.tsv\" \\\n",
        "            --do_test"
      ],
      "metadata": {
        "id": "x9S1DtNJ0ggs"
      },
      "execution_count": null,
      "outputs": []
    },
    {
      "cell_type": "markdown",
      "source": [
        "### **Hard Gate Model**"
      ],
      "metadata": {
        "id": "V2s13ofEh3gh"
      }
    },
    {
      "cell_type": "markdown",
      "source": [
        "**Train**"
      ],
      "metadata": {
        "id": "Ns0z4BTkEXgV"
      }
    },
    {
      "cell_type": "code",
      "source": [
        "!bash bash/run_generation.sh \\\n",
        "            --glove \"resources/glove.6B.300d.txt\" \\\n",
        "            --gpu_id 0 \\\n",
        "            --mode hard \\\n",
        "            --baseline \"resources/roberta-large.tsv\" \\\n",
        "            --roberta roberta-large \\\n",
        "            --do_train"
      ],
      "metadata": {
        "id": "4UrJL5PvWcvi"
      },
      "execution_count": null,
      "outputs": []
    },
    {
      "cell_type": "markdown",
      "source": [
        "Checkpoint cell could be finicky. Feel free to change:"
      ],
      "metadata": {
        "id": "QSXCT8POD7GO"
      }
    },
    {
      "cell_type": "code",
      "source": [
        "# Change checkpoint based on what checkpoint you want to use\n",
        "checkpoint = \"checkpoint_other_131.pt\"\n",
        "\n",
        "source_path = f\"/content/CS247-Empathy-Mental-Health/{checkpoint}\"\n",
        "destination_path = \"/content/CS247-Empathy-Mental-Health/EmpDialogue_RecEC/outputs/hard_gen/checkpoint_best.pt\"\n",
        "\n",
        "# Copy the file from source to destination\n",
        "shutil.copyfile(source_path, destination_path)"
      ],
      "metadata": {
        "id": "douW7J3bkCyR"
      },
      "execution_count": null,
      "outputs": []
    },
    {
      "cell_type": "markdown",
      "source": [
        "**Test**"
      ],
      "metadata": {
        "id": "WNDi3vS5EY8D"
      }
    },
    {
      "cell_type": "code",
      "source": [
        "9!bash bash/run_generation.sh \\\n",
        "             --glove \"/resources/glove.6B.300d.txt\" \\\n",
        "             --gpu_id 0 \\\n",
        "             --mode hard \\\n",
        "             --roberta roberta-large \\\n",
        "             --baseline \"resources/roberta-large.tsv\" \\\n",
        "             --do_test"
      ],
      "metadata": {
        "id": "KFlV04wEWhhm"
      },
      "execution_count": null,
      "outputs": []
    }
  ]
}